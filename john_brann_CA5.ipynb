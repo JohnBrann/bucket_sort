{
 "cells": [
  {
   "cell_type": "markdown",
   "id": "3fcc55c0",
   "metadata": {},
   "source": [
    "# Counting Sort\n",
    "\n",
    "Given a list $A$ of $n$ non-negative integers. If we know that these values are within a range of $(0,k)$ with $k = n + O(1)$ or even with $k = O(n)$, then we can sort $A$ without using comparisons. That is, we count the frequency of each integer in $A$, compute the total number of $y$'s in $A$ smaller than $x$ for each $x$ in $A$, and place $x$ on the correct position. This algorithm runs in $\\Theta(n)$ time with the help of additional counting memory space of size $k$ and an temporary memory space of size $O(n)$ to hold the sorted numbers. "
   ]
  },
  {
   "cell_type": "code",
   "execution_count": 7,
   "id": "00e5c04b",
   "metadata": {
    "ExecuteTime": {
     "end_time": "2023-10-24T18:39:49.029022Z",
     "start_time": "2023-10-24T18:39:49.012229Z"
    }
   },
   "outputs": [],
   "source": [
    "def countingSort(A): \n",
    "    size = len(A)\n",
    "    k = max(A)\n",
    "    output = [0] * size\n",
    "    count = [0] * (k+1) \n",
    "    \n",
    "    for j in range(size):\n",
    "        count[A[j]] += 1  \n",
    "    # Think about A[j] as an index of A\n",
    "    # count[i] now contains the number of elements equal to i\n",
    "    \n",
    "    for i in range(1,k+1):\n",
    "        count[i] += count[i-1]\n",
    "    # count[i] now contains the number of elements less than or equal to i\n",
    "    \n",
    "    # Find the index of each element of A in the count array\n",
    "    # place the elements in the output array\n",
    "    j = size - 1 # backward right to left to make sorting stable\n",
    "    while j >= 0:\n",
    "        output[count[A[j]] - 1] = A[j] # this is brilliant\n",
    "        count[A[j]] -= 1\n",
    "        j -= 1\n",
    "    return output"
   ]
  },
  {
   "cell_type": "code",
   "execution_count": 9,
   "id": "6665add6",
   "metadata": {
    "ExecuteTime": {
     "end_time": "2023-10-24T18:39:53.718271Z",
     "start_time": "2023-10-24T18:39:53.712969Z"
    }
   },
   "outputs": [],
   "source": [
    "def main():\n",
    "    A = [2, 1, 3, 4, 0, 5, 3, 2, 7, 1, 0, 5, 6, 4, 2]\n",
    "    print(countingSort(A))"
   ]
  },
  {
   "cell_type": "code",
   "execution_count": 10,
   "id": "90a71ec9",
   "metadata": {
    "ExecuteTime": {
     "end_time": "2023-10-24T18:39:54.228310Z",
     "start_time": "2023-10-24T18:39:54.223581Z"
    }
   },
   "outputs": [
    {
     "name": "stdout",
     "output_type": "stream",
     "text": [
      "[0, 0, 1, 1, 2, 2, 2, 3, 3, 4, 4, 5, 5, 6, 7]\n"
     ]
    }
   ],
   "source": [
    "main()"
   ]
  },
  {
   "cell_type": "markdown",
   "id": "849092aa",
   "metadata": {},
   "source": [
    "Modify the counting sort to sort values in descending order such that the sorted output is stable"
   ]
  },
  {
   "cell_type": "code",
   "execution_count": 4,
   "id": "d69bbbe3",
   "metadata": {},
   "outputs": [],
   "source": [
    "def countingSortDescending(A):\n",
    "    size = len(A)\n",
    "    k = max(A)\n",
    "    output = [0] * size\n",
    "    count = [0] * (k + 1)\n",
    "    \n",
    "    for j in range(size):\n",
    "        count[A[j]] += 1\n",
    "    # Think about A[j] as an index of A\n",
    "    # count[i] now contains the number of elements equal to i\n",
    "    \n",
    "    # count[i] to represents the position for descending order\n",
    "    for i in range(k - 1, -1, -1):\n",
    "        count[i] += count[i + 1]\n",
    "    \n",
    "    for j in range(size):\n",
    "        output[count[A[j]] - 1] = A[j]  # Place in the output array\n",
    "        count[A[j]] -= 1 \n",
    "    \n",
    "    return output\n"
   ]
  },
  {
   "cell_type": "code",
   "execution_count": 6,
   "id": "59b9a269",
   "metadata": {},
   "outputs": [],
   "source": [
    "def main():\n",
    "    A = [2, 1, 4, 3, 0, 5, 3, 2, 7, 1, 0, 5, 6, 4, 2]\n",
    "    sorted_A = countingSortDescending(A)\n",
    "    print(sorted_A)"
   ]
  },
  {
   "cell_type": "code",
   "execution_count": 5,
   "id": "7bd70d29",
   "metadata": {},
   "outputs": [
    {
     "name": "stdout",
     "output_type": "stream",
     "text": [
      "[7, 6, 5, 5, 4, 4, 3, 3, 2, 2, 2, 1, 1, 0, 0]\n"
     ]
    }
   ],
   "source": [
    "main()"
   ]
  },
  {
   "cell_type": "markdown",
   "id": "d71a40a2",
   "metadata": {},
   "source": [
    "Bucket Sort"
   ]
  },
  {
   "cell_type": "code",
   "execution_count": 7,
   "id": "bbc228be",
   "metadata": {},
   "outputs": [],
   "source": [
    "def bucketSort(A, NumOfBuckets):\n",
    "    max_A = max(A)\n",
    "    \n",
    "    # Normalize the values\n",
    "    normalized_A = [x / (max_A + 1) for x in A]\n",
    "\n",
    "    # Create empty buckets\n",
    "    buckets = [[] for _ in range(NumOfBuckets)]\n",
    "    \n",
    "    # Scatter the normalized elements into the correct buckets\n",
    "    for num in normalized_A:\n",
    "        index = int(num * NumOfBuckets)  # Determine the bucket index\n",
    "        if index == NumOfBuckets: \n",
    "            index -= 1\n",
    "        buckets[index].append(num)\n",
    "\n",
    "    # Sort each bucket\n",
    "    sorted_A = []\n",
    "    bucket_size = []  # For size of each bucket\n",
    "    for bucket in buckets:\n",
    "        if bucket:\n",
    "            bucket.sort()  # Sort the current bucket\n",
    "            bucket_size.append(len(bucket))  # Store the size of the bucket\n",
    "            sorted_A.extend(bucket)  # Add sorted bucket elements\n",
    "\n",
    "    # Step 5: Scale back the sorted numbers\n",
    "    sorted_A = [x * (max_A + 1) for x in sorted_A]\n",
    "\n",
    "    return sorted_A, bucket_size\n"
   ]
  },
  {
   "cell_type": "code",
   "execution_count": 8,
   "id": "99e542c5",
   "metadata": {},
   "outputs": [],
   "source": [
    "def main():\n",
    "    arr = [2.1, 1.5, 3.3, 4.7, 5.2, 3.8, 2.4, 6.6]\n",
    "    NumOfBuckets = 4\n",
    "    sorted_arr, bucket_sizes = bucketSort(arr, NumOfBuckets)\n",
    "    print(\"Sorted Array:\", sorted_arr)\n",
    "    print(\"Bucket Sizes:\", bucket_sizes)"
   ]
  },
  {
   "cell_type": "code",
   "execution_count": 9,
   "id": "b46de7d6",
   "metadata": {},
   "outputs": [
    {
     "name": "stdout",
     "output_type": "stream",
     "text": [
      "Sorted Array: [1.5, 2.1, 2.4, 3.3, 3.8, 4.7, 5.2, 6.6]\n",
      "Bucket Sizes: [1, 3, 3, 1]\n"
     ]
    }
   ],
   "source": [
    "main()"
   ]
  }
 ],
 "metadata": {
  "kernelspec": {
   "display_name": "base",
   "language": "python",
   "name": "python3"
  },
  "language_info": {
   "codemirror_mode": {
    "name": "ipython",
    "version": 3
   },
   "file_extension": ".py",
   "mimetype": "text/x-python",
   "name": "python",
   "nbconvert_exporter": "python",
   "pygments_lexer": "ipython3",
   "version": "3.12.4"
  },
  "toc": {
   "base_numbering": 1,
   "nav_menu": {},
   "number_sections": true,
   "sideBar": true,
   "skip_h1_title": false,
   "title_cell": "Table of Contents",
   "title_sidebar": "Contents",
   "toc_cell": false,
   "toc_position": {},
   "toc_section_display": true,
   "toc_window_display": false
  },
  "varInspector": {
   "cols": {
    "lenName": 16,
    "lenType": 16,
    "lenVar": 40
   },
   "kernels_config": {
    "python": {
     "delete_cmd_postfix": "",
     "delete_cmd_prefix": "del ",
     "library": "var_list.py",
     "varRefreshCmd": "print(var_dic_list())"
    },
    "r": {
     "delete_cmd_postfix": ") ",
     "delete_cmd_prefix": "rm(",
     "library": "var_list.r",
     "varRefreshCmd": "cat(var_dic_list()) "
    }
   },
   "types_to_exclude": [
    "module",
    "function",
    "builtin_function_or_method",
    "instance",
    "_Feature"
   ],
   "window_display": false
  }
 },
 "nbformat": 4,
 "nbformat_minor": 5
}
